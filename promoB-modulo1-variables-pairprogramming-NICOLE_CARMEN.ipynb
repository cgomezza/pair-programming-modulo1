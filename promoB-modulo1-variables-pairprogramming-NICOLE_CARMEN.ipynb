{
 "cells": [
  {
   "cell_type": "markdown",
   "metadata": {},
   "source": [
    "Pair programming variables\n"
   ]
  },
  {
   "cell_type": "code",
   "execution_count": 37,
   "metadata": {},
   "outputs": [],
   "source": [
    "# Creamos variables para operadores logicos.\n",
    "numero1 = 1\n",
    "numero2 = 2\n",
    "numero3 = 3"
   ]
  },
  {
   "cell_type": "code",
   "execution_count": 38,
   "metadata": {},
   "outputs": [
    {
     "name": "stdout",
     "output_type": "stream",
     "text": [
      "False\n"
     ]
    }
   ],
   "source": [
    "\n",
    "print (numero1 > numero2)"
   ]
  },
  {
   "cell_type": "code",
   "execution_count": 39,
   "metadata": {},
   "outputs": [
    {
     "name": "stdout",
     "output_type": "stream",
     "text": [
      "False\n"
     ]
    }
   ],
   "source": [
    "print ((numero1 < numero2) and (numero1 > numero3))"
   ]
  },
  {
   "cell_type": "code",
   "execution_count": 40,
   "metadata": {},
   "outputs": [
    {
     "name": "stdout",
     "output_type": "stream",
     "text": [
      "False\n"
     ]
    }
   ],
   "source": [
    "print (numero3 == numero2)"
   ]
  },
  {
   "cell_type": "code",
   "execution_count": 41,
   "metadata": {},
   "outputs": [
    {
     "name": "stdout",
     "output_type": "stream",
     "text": [
      "True\n"
     ]
    }
   ],
   "source": [
    "print(numero2 != numero1)"
   ]
  },
  {
   "cell_type": "code",
   "execution_count": 42,
   "metadata": {},
   "outputs": [],
   "source": [
    "# Creamos variables de tipo float\n",
    "\n",
    "altura1 = 10.58\n",
    "altura2 = 1.34\n"
   ]
  },
  {
   "cell_type": "code",
   "execution_count": 43,
   "metadata": {},
   "outputs": [
    {
     "name": "stdout",
     "output_type": "stream",
     "text": [
      "11.92\n",
      "9.24\n",
      "1.1999999999999995\n",
      "7.9\n"
     ]
    }
   ],
   "source": [
    "print(altura1 + altura2)\n",
    "print(altura1 - altura2)\n",
    "print(altura1 % altura2)\n",
    "print(round((altura1 / altura2),1))"
   ]
  },
  {
   "cell_type": "code",
   "execution_count": 44,
   "metadata": {},
   "outputs": [],
   "source": [
    "# Comprobación del ejercicio anterior.\n",
    "\n",
    "comprobacion1 = 10\n",
    "comprobacion2 = 2\n"
   ]
  },
  {
   "cell_type": "code",
   "execution_count": 45,
   "metadata": {},
   "outputs": [
    {
     "name": "stdout",
     "output_type": "stream",
     "text": [
      "0\n"
     ]
    }
   ],
   "source": [
    "print(comprobacion1 % comprobacion2)"
   ]
  },
  {
   "cell_type": "code",
   "execution_count": 46,
   "metadata": {},
   "outputs": [
    {
     "name": "stdout",
     "output_type": "stream",
     "text": [
      "manzanas, platanos, patatas y huevos\n"
     ]
    }
   ],
   "source": [
    "# Creamos un programa utilizando la funcion input()\n",
    "\n",
    "nombre_apellidos =input()\n",
    "print(nombre_apellidos)"
   ]
  },
  {
   "cell_type": "code",
   "execution_count": 47,
   "metadata": {},
   "outputs": [
    {
     "name": "stdout",
     "output_type": "stream",
     "text": [
      "MANZANAS, PLATANOS, PATATAS Y HUEVOS\n"
     ]
    }
   ],
   "source": [
    "print(nombre_apellidos.upper())"
   ]
  },
  {
   "cell_type": "code",
   "execution_count": 48,
   "metadata": {},
   "outputs": [
    {
     "name": "stdout",
     "output_type": "stream",
     "text": [
      "manzanas, platanos, patatas y huevos\n"
     ]
    }
   ],
   "source": [
    "print(nombre_apellidos.lower())"
   ]
  },
  {
   "cell_type": "code",
   "execution_count": 49,
   "metadata": {},
   "outputs": [
    {
     "name": "stdout",
     "output_type": "stream",
     "text": [
      "Manzanas, Platanos, Patatas Y Huevos\n"
     ]
    }
   ],
   "source": [
    "print(nombre_apellidos.title())"
   ]
  },
  {
   "cell_type": "code",
   "execution_count": 50,
   "metadata": {},
   "outputs": [
    {
     "name": "stdout",
     "output_type": "stream",
     "text": [
      "Manzanas, platanos, patatas y huevos\n"
     ]
    }
   ],
   "source": [
    "print(nombre_apellidos.capitalize())"
   ]
  },
  {
   "cell_type": "code",
   "execution_count": 51,
   "metadata": {},
   "outputs": [],
   "source": [
    "# Creamos un programa utilizando la funcion input() con frase\n",
    "que_tres_cosas_haces_por_las_mañanas = input()\n"
   ]
  },
  {
   "cell_type": "code",
   "execution_count": 52,
   "metadata": {},
   "outputs": [
    {
     "name": "stdout",
     "output_type": "stream",
     "text": [
      "\n"
     ]
    }
   ],
   "source": [
    "print(que_tres_cosas_haces_por_las_mañanas)"
   ]
  },
  {
   "cell_type": "code",
   "execution_count": 53,
   "metadata": {},
   "outputs": [],
   "source": [
    "cual_es_la_primera_vocal_de_tu_nombre = input()"
   ]
  },
  {
   "cell_type": "code",
   "execution_count": 54,
   "metadata": {},
   "outputs": [
    {
     "name": "stdout",
     "output_type": "stream",
     "text": [
      "manzanas, platanos, patatas y huevos\n"
     ]
    }
   ],
   "source": [
    "print(cual_es_la_primera_vocal_de_tu_nombre)"
   ]
  },
  {
   "cell_type": "code",
   "execution_count": 55,
   "metadata": {},
   "outputs": [
    {
     "name": "stdout",
     "output_type": "stream",
     "text": [
      "\n"
     ]
    }
   ],
   "source": [
    "\n",
    "que_tres_cosas_haces_por_las_mañanas_A = que_tres_cosas_haces_por_las_mañanas.replace(\"a\" , \"A\")\n",
    "print(que_tres_cosas_haces_por_las_mañanas)\n"
   ]
  },
  {
   "cell_type": "code",
   "execution_count": 56,
   "metadata": {},
   "outputs": [
    {
     "name": "stdout",
     "output_type": "stream",
     "text": [
      "\n"
     ]
    }
   ],
   "source": [
    "#Comprobación ejercicio anterior.\n",
    "\n",
    "print(que_tres_cosas_haces_por_las_mañanas)"
   ]
  },
  {
   "cell_type": "code",
   "execution_count": 60,
   "metadata": {},
   "outputs": [],
   "source": [
    "#Lista de compra utilizando la funcion input()\n",
    "que_nesitas_comprar = input()\n",
    "\n"
   ]
  },
  {
   "cell_type": "code",
   "execution_count": 61,
   "metadata": {},
   "outputs": [
    {
     "name": "stdout",
     "output_type": "stream",
     "text": [
      "manzanas, platano, patata y huevo\n"
     ]
    }
   ],
   "source": [
    "print(que_nesitas_comprar)"
   ]
  },
  {
   "cell_type": "code",
   "execution_count": 63,
   "metadata": {},
   "outputs": [
    {
     "ename": "AttributeError",
     "evalue": "'list' object has no attribute 'split'",
     "output_type": "error",
     "traceback": [
      "\u001b[1;31m---------------------------------------------------------------------------\u001b[0m",
      "\u001b[1;31mAttributeError\u001b[0m                            Traceback (most recent call last)",
      "Cell \u001b[1;32mIn[63], line 1\u001b[0m\n\u001b[1;32m----> 1\u001b[0m que_nesitas_comprar_1 \u001b[38;5;241m=\u001b[39m que_nesitas_comprar_1\u001b[38;5;241m.\u001b[39msplit()\n\u001b[0;32m      2\u001b[0m que_nesitas_comprar\n",
      "\u001b[1;31mAttributeError\u001b[0m: 'list' object has no attribute 'split'"
     ]
    }
   ],
   "source": [
    "que_nesitas_comprar_1 = que_nesitas_comprar_1.split()\n",
    "que_nesitas_comprar"
   ]
  }
 ],
 "metadata": {
  "kernelspec": {
   "display_name": "base",
   "language": "python",
   "name": "python3"
  },
  "language_info": {
   "codemirror_mode": {
    "name": "ipython",
    "version": 3
   },
   "file_extension": ".py",
   "mimetype": "text/x-python",
   "name": "python",
   "nbconvert_exporter": "python",
   "pygments_lexer": "ipython3",
   "version": "3.11.7"
  }
 },
 "nbformat": 4,
 "nbformat_minor": 2
}
