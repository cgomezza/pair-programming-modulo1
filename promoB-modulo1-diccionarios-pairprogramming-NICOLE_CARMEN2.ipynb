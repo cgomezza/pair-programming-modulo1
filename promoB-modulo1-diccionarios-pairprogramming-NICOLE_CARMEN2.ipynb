{
 "cells": [
  {
   "cell_type": "markdown",
   "metadata": {},
   "source": [
    "# Pair programming ###\n",
    "\n",
    "* 07/05/2024 *\n",
    "### Carmen y Nicole ###\n",
    "\n"
   ]
  },
  {
   "cell_type": "code",
   "execution_count": 77,
   "metadata": {},
   "outputs": [],
   "source": [
    "# Creamos un diccionario vacío \n",
    "precios = dict()"
   ]
  },
  {
   "cell_type": "code",
   "execution_count": 78,
   "metadata": {},
   "outputs": [
    {
     "name": "stdout",
     "output_type": "stream",
     "text": [
      "{'precio1': 5, 'precio2': 8, 'precio3': 9, 'precio4': 25, 'precio5': 100}\n"
     ]
    }
   ],
   "source": [
    "#Crear un diccionario con elementos\n",
    "precios = {\"precio1\":5, \"precio2\":8, \"precio3\":9, \"precio4\":25, \"precio5\":100}\n",
    "print(precios)\n"
   ]
  },
  {
   "cell_type": "code",
   "execution_count": 79,
   "metadata": {},
   "outputs": [
    {
     "name": "stdout",
     "output_type": "stream",
     "text": [
      "el precio que seleccionaste es:  25\n"
     ]
    }
   ],
   "source": [
    "#Acceder a un valor a través de input\n",
    "\n",
    "seleccion_cliente = input(\"ingresa precio1, precio2, precio3, precio4, o precio5 dependiendo el precio que quieras saber\")\n",
    "print(\"el precio que seleccionaste es: \",precios.get(seleccion_cliente))\n"
   ]
  },
  {
   "cell_type": "code",
   "execution_count": 80,
   "metadata": {},
   "outputs": [],
   "source": [
    "#Agregamos valor a el diccionario\n",
    "\n",
    "nuevo_precio = {\"precio6\": 45}\n",
    "precios.update(nuevo_precio)\n"
   ]
  },
  {
   "cell_type": "code",
   "execution_count": 81,
   "metadata": {},
   "outputs": [
    {
     "name": "stdout",
     "output_type": "stream",
     "text": [
      "{'precio1': 5, 'precio2': 8, 'precio3': 9, 'precio4': 25, 'precio5': 100, 'precio6': 45}\n"
     ]
    }
   ],
   "source": [
    "print(precios)"
   ]
  },
  {
   "cell_type": "code",
   "execution_count": 82,
   "metadata": {},
   "outputs": [
    {
     "name": "stdout",
     "output_type": "stream",
     "text": [
      "{'precio1': 5, 'precio2': 8, 'precio3': 9, 'precio4': 25, 'precio5': 100, 'precio6': 45}\n"
     ]
    }
   ],
   "source": [
    "print(precios)"
   ]
  },
  {
   "cell_type": "code",
   "execution_count": 85,
   "metadata": {},
   "outputs": [],
   "source": [
    "#Modificar valor del diccionario utilizando update\n",
    "precio_correcto = {\"precio1\":115}\n",
    "precios.update(precio_correcto)\n"
   ]
  },
  {
   "cell_type": "code",
   "execution_count": 86,
   "metadata": {},
   "outputs": [
    {
     "name": "stdout",
     "output_type": "stream",
     "text": [
      "{'precio1': 115, 'precio2': 8, 'precio3': 9, 'precio4': 25, 'precio5': 100, 'precio6': 45}\n"
     ]
    }
   ],
   "source": [
    "print(precios)"
   ]
  },
  {
   "cell_type": "code",
   "execution_count": 94,
   "metadata": {},
   "outputs": [
    {
     "name": "stdout",
     "output_type": "stream",
     "text": [
      "el precio que seleccionaste es: 9\n"
     ]
    }
   ],
   "source": [
    "# Eliminamos dos par clave-valor\n",
    "eliminar_precio = input(\"ingresa precio1, precio2, precio3, precio4, o precio5 dependiendo el precio que quieras eliminar\")\n",
    "print(\"el precio que seleccionaste es:\", precios.pop(eliminar_precio))\n"
   ]
  },
  {
   "cell_type": "code",
   "execution_count": 95,
   "metadata": {},
   "outputs": [
    {
     "name": "stdout",
     "output_type": "stream",
     "text": [
      "{'precio1': 115, 'precio4': 25, 'precio5': 100, 'precio6': 45}\n"
     ]
    }
   ],
   "source": [
    "#Comprobamos que se ha eliminado el precio2 y el precio3\n",
    "print(precios)"
   ]
  },
  {
   "cell_type": "code",
   "execution_count": 97,
   "metadata": {},
   "outputs": [
    {
     "name": "stdout",
     "output_type": "stream",
     "text": [
      "el precio que seleccionaste es: False\n"
     ]
    }
   ],
   "source": [
    "# Verificamos si la clave precio2 esta en el diccionario.\n",
    "\n",
    "verificar_precio = input(\"ingresa precio1, precio2, precio3, precio4, o precio5 dependiendo el precio que quieras verificar\")\n",
    "print(\"el precio que seleccionaste es:\",verificar_precio in precios)"
   ]
  },
  {
   "cell_type": "code",
   "execution_count": 99,
   "metadata": {},
   "outputs": [
    {
     "name": "stdout",
     "output_type": "stream",
     "text": [
      "Los precios que tenemos son dict_keys(['precio1', 'precio4', 'precio5', 'precio6'])\n"
     ]
    }
   ],
   "source": [
    "#Obtenemos una lista de las claves del diccionario\n",
    "print(\"Los precios que tenemos son\", precios.keys())"
   ]
  },
  {
   "cell_type": "code",
   "execution_count": 100,
   "metadata": {},
   "outputs": [
    {
     "name": "stdout",
     "output_type": "stream",
     "text": [
      "Los precios que tenemos son dict_values([115, 25, 100, 45])\n"
     ]
    }
   ],
   "source": [
    "#Obtenemos los valores del diccionario precios.\n",
    "print(\"Los precios que tenemos son\", precios.values())"
   ]
  },
  {
   "cell_type": "code",
   "execution_count": 103,
   "metadata": {},
   "outputs": [
    {
     "name": "stdout",
     "output_type": "stream",
     "text": [
      "el valor de precio7 es 38\n",
      "{'precio1': 115, 'precio4': 25, 'precio5': 100, 'precio6': 45, 'precio7': 38}\n"
     ]
    }
   ],
   "source": [
    "# Utilizamos la funcion setdefault() en nuestra lista precios.\n",
    "print(\"el valor de precio7 es\",precios.setdefault(\"precio7\",38))\n",
    "print(precios)"
   ]
  },
  {
   "cell_type": "code",
   "execution_count": 104,
   "metadata": {},
   "outputs": [
    {
     "name": "stdout",
     "output_type": "stream",
     "text": [
      "aqui esta mi diccionario despues de pop 115\n"
     ]
    }
   ],
   "source": [
    "#Manipulamos el diccionario utilizando las funciones pop() y popitem()\n",
    "print(\"el valor que eliminamos es\",precios.pop(\"precio1\"))"
   ]
  },
  {
   "cell_type": "code",
   "execution_count": 105,
   "metadata": {},
   "outputs": [
    {
     "name": "stdout",
     "output_type": "stream",
     "text": [
      "{'precio4': 25, 'precio5': 100, 'precio6': 45, 'precio7': 38}\n"
     ]
    }
   ],
   "source": [
    "#Comprobacion pop(precio1)\n",
    "print(precios)"
   ]
  },
  {
   "cell_type": "code",
   "execution_count": 106,
   "metadata": {},
   "outputs": [
    {
     "name": "stdout",
     "output_type": "stream",
     "text": [
      "el valor que eliminamos es ('precio7', 38)\n"
     ]
    }
   ],
   "source": [
    "print(\"el valor que eliminamos es\",precios.popitem())"
   ]
  },
  {
   "cell_type": "code",
   "execution_count": 107,
   "metadata": {},
   "outputs": [
    {
     "name": "stdout",
     "output_type": "stream",
     "text": [
      "{'precio4': 25, 'precio5': 100, 'precio6': 45}\n"
     ]
    }
   ],
   "source": [
    "#Comprobacion popitem\n",
    "print(precios)"
   ]
  }
 ],
 "metadata": {
  "kernelspec": {
   "display_name": "Python 3",
   "language": "python",
   "name": "python3"
  },
  "language_info": {
   "codemirror_mode": {
    "name": "ipython",
    "version": 3
   },
   "file_extension": ".py",
   "mimetype": "text/x-python",
   "name": "python",
   "nbconvert_exporter": "python",
   "pygments_lexer": "ipython3",
   "version": "3.11.7"
  }
 },
 "nbformat": 4,
 "nbformat_minor": 2
}
