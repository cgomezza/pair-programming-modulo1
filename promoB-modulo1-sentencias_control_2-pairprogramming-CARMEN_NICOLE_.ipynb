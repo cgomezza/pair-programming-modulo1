{
 "cells": [
  {
   "cell_type": "markdown",
   "metadata": {},
   "source": [
    "# Pair programming sentencias de control 2\n",
    "\n",
    "11/05/2024"
   ]
  },
  {
   "cell_type": "code",
   "execution_count": 5,
   "metadata": {},
   "outputs": [
    {
     "name": "stdout",
     "output_type": "stream",
     "text": [
      "1\n",
      "2\n",
      "3\n",
      "4\n",
      "5\n"
     ]
    }
   ],
   "source": [
    "# 1. Imprimir numeros del 1 al 5\n",
    "\n",
    "lista_range = range(1,6)\n",
    "for num in lista_range:\n",
    "    print(num)"
   ]
  },
  {
   "cell_type": "code",
   "execution_count": 38,
   "metadata": {},
   "outputs": [
    {
     "name": "stdout",
     "output_type": "stream",
     "text": [
      "el número al que estamos accediendo es 1\n",
      "el número al que estamos accediendo es 2\n",
      "el número al que estamos accediendo es 3\n",
      "el número al que estamos accediendo es 4\n",
      "el número al que estamos accediendo es 5\n",
      "el número al que estamos accediendo es 6\n",
      "el número al que estamos accediendo es 7\n",
      "el número al que estamos accediendo es 8\n",
      "el número al que estamos accediendo es 9\n",
      "el número al que estamos accediendo es 10\n"
     ]
    }
   ],
   "source": [
    "# 2. Calcular la suma de los primeros 10 numeros.\n",
    "\n",
    "lista_numeros = [1,2,3,4,5,6,7,8,9,10]\n",
    "numero_sumado = []\n",
    "\n",
    "\n",
    "for numero in lista_numeros:\n",
    "    numero = \n",
    "\n",
    "\n",
    "\n",
    "\n",
    "    \n",
    "\n",
    "\n"
   ]
  },
  {
   "cell_type": "code",
   "execution_count": null,
   "metadata": {},
   "outputs": [],
   "source": []
  },
  {
   "cell_type": "code",
   "execution_count": null,
   "metadata": {},
   "outputs": [],
   "source": []
  }
 ],
 "metadata": {
  "kernelspec": {
   "display_name": "base",
   "language": "python",
   "name": "python3"
  },
  "language_info": {
   "codemirror_mode": {
    "name": "ipython",
    "version": 3
   },
   "file_extension": ".py",
   "mimetype": "text/x-python",
   "name": "python",
   "nbconvert_exporter": "python",
   "pygments_lexer": "ipython3",
   "version": "3.11.7"
  }
 },
 "nbformat": 4,
 "nbformat_minor": 2
}
