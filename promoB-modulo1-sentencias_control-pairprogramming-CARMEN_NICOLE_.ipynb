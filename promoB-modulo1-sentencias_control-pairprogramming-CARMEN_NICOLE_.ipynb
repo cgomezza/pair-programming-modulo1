{
 "cells": [
  {
   "cell_type": "markdown",
   "metadata": {},
   "source": [
    "Sentencias de control.\n",
    "\n",
    "\n",
    "Pair programming 09/05/2024"
   ]
  },
  {
   "cell_type": "code",
   "execution_count": 29,
   "metadata": {},
   "outputs": [
    {
     "name": "stdout",
     "output_type": "stream",
     "text": [
      "Número es 0\n"
     ]
    }
   ],
   "source": [
    "# Ejercicios IF/ELSE.\n",
    "#Verificar si un número es positivo o negativo\n",
    "\n",
    "numero = 0\n",
    "\n",
    "if numero == 0:\n",
    "    print(\"Número es 0\")\n",
    "\n",
    "if numero < 0:\n",
    "        print(\"Número negativo\")\n",
    "\n",
    "if numero > 0:\n",
    "      print(\"Numero es positivo\")\n",
    "\n",
    "\n",
    "\n"
   ]
  },
  {
   "cell_type": "code",
   "execution_count": 36,
   "metadata": {},
   "outputs": [
    {
     "name": "stdout",
     "output_type": "stream",
     "text": [
      "Numero impar\n"
     ]
    }
   ],
   "source": [
    "# Número par o impar.\n",
    "\n",
    "numero = 9\n",
    "\n",
    "\n",
    "if numero%2==0:\n",
    "    print (\"numero par\")\n",
    "\n",
    "if numero%2!=0:\n",
    "    print(\"Numero impar\")\n"
   ]
  },
  {
   "cell_type": "code",
   "execution_count": 38,
   "metadata": {},
   "outputs": [
    {
     "name": "stdout",
     "output_type": "stream",
     "text": [
      "Aprobado\n"
     ]
    }
   ],
   "source": [
    "# Verificar si el estudiando aprobó o suspendió\n",
    "\n",
    "nota = 99\n",
    "\n",
    "if nota >= 60:\n",
    "    print(\"Aprobado\")\n",
    "\n",
    "else:\n",
    "    print(\"Suspenso\")"
   ]
  },
  {
   "cell_type": "code",
   "execution_count": 39,
   "metadata": {},
   "outputs": [
    {
     "name": "stdout",
     "output_type": "stream",
     "text": [
      "57\n"
     ]
    }
   ],
   "source": [
    "# Calcular máximo entre dos números\n",
    "\n",
    "a = 57\n",
    "b = 22\n",
    "\n",
    "if a > b:\n",
    "    print(a)\n",
    "\n",
    "if b > a:\n",
    "    print(b)"
   ]
  },
  {
   "cell_type": "code",
   "execution_count": 41,
   "metadata": {},
   "outputs": [
    {
     "name": "stdout",
     "output_type": "stream",
     "text": [
      "vocal\n"
     ]
    }
   ],
   "source": [
    "#Verificar si es vocal o consonante\n",
    "\n",
    "letra = \"e\"\n",
    "\n",
    "vocal = {\"a\", \"e\",\"i\",\"o\",\"u\"}\n",
    "\n",
    "if letra in vocal:\n",
    "    print(\"vocal\")\n",
    "\n",
    "else:\n",
    "    print(\"consonante\")"
   ]
  },
  {
   "cell_type": "code",
   "execution_count": 45,
   "metadata": {},
   "outputs": [
    {
     "name": "stdout",
     "output_type": "stream",
     "text": [
      "No tiene descuento\n"
     ]
    }
   ],
   "source": [
    "# Calcular descuento\n",
    "\n",
    "precio = 50\n",
    "\n",
    "if precio >= 100:\n",
    "    print(\"El descuento seria de\",(precio*0.10))\n",
    "\n",
    "else:\n",
    "    print(\"No tiene descuento\")"
   ]
  },
  {
   "cell_type": "code",
   "execution_count": 51,
   "metadata": {},
   "outputs": [
    {
     "name": "stdout",
     "output_type": "stream",
     "text": [
      "El año no es bisiesto.\n"
     ]
    }
   ],
   "source": [
    "# Otra forma de calcular si es año bisiesto o no.\n",
    "\n",
    "año = int(input('Introduce un año: '))\n",
    "\n",
    "if año % 4 == 0:\n",
    "    if año % 100 == 0:\n",
    "        if año % 400 == 0:\n",
    "            print('El año es bisiesto')\n",
    "        else:\n",
    "            print('El año no es bisiesto')\n",
    "    else:\n",
    "        print('El año es bisiesto.')\n",
    "else:\n",
    "    print('El año no es bisiesto.')\n",
    "\n"
   ]
  },
  {
   "cell_type": "code",
   "execution_count": 54,
   "metadata": {},
   "outputs": [
    {
     "name": "stdout",
     "output_type": "stream",
     "text": [
      "Adulto\n"
     ]
    }
   ],
   "source": [
    "# Asignar categoria edad.\n",
    "\n",
    "edad = 45\n",
    "\n",
    "if edad < 18:\n",
    "    print(\"Menor de edad\")\n",
    "\n",
    "elif edad < 64:\n",
    "    print(\"Adulto\")\n",
    "\n",
    "else:\n",
    "    print(\"Adulto Mayor\")"
   ]
  },
  {
   "cell_type": "code",
   "execution_count": 55,
   "metadata": {},
   "outputs": [
    {
     "name": "stdout",
     "output_type": "stream",
     "text": [
      "No es un triángulo rectángulo\n"
     ]
    }
   ],
   "source": [
    "# Verificar si tres numeros forman un triangulo rectangulo. \" a2 + b2 = c2\"\n",
    "a = 5\n",
    "b = 6\n",
    "c = 8\n",
    "\n",
    "if a*2 + b*2 == c*2:\n",
    "    print(\"triángulo rectángulo\")\n",
    "\n",
    "else:\n",
    "    print (\"No es un triángulo rectángulo\")\n",
    "\n",
    "\n"
   ]
  },
  {
   "cell_type": "code",
   "execution_count": 56,
   "metadata": {},
   "outputs": [
    {
     "name": "stdout",
     "output_type": "stream",
     "text": [
      "triángulo rectángulo\n"
     ]
    }
   ],
   "source": [
    "# Comprobación triangulo rectangulo\n",
    "\n",
    "a = 2\n",
    "b = 2\n",
    "c = 4\n",
    "\n",
    "if a*2 + b*2 == c*2:\n",
    "    print(\"triángulo rectángulo\")\n",
    "\n",
    "else:\n",
    "    print (\"No es un triángulo rectángulo\")"
   ]
  },
  {
   "cell_type": "code",
   "execution_count": 57,
   "metadata": {},
   "outputs": [
    {
     "name": "stdout",
     "output_type": "stream",
     "text": [
      "D\n"
     ]
    }
   ],
   "source": [
    "# Asignar una calificación.\n",
    "\n",
    "calificacion = 65\n",
    "\n",
    "if calificacion >= 90:\n",
    "    print(\"A\")\n",
    "if calificacion >= 80:\n",
    "    print(\"B\")\n",
    "if calificacion >= 70:\n",
    "    print(\"C\")\n",
    "if calificacion >= 60:\n",
    "    print(\"D\")\n",
    "\n",
    "else:\n",
    "    print(\"F\")\n"
   ]
  },
  {
   "cell_type": "code",
   "execution_count": 77,
   "metadata": {},
   "outputs": [
    {
     "name": "stdout",
     "output_type": "stream",
     "text": [
      "Bajo peso\n"
     ]
    }
   ],
   "source": [
    "# Calcular indice masa corporal. = peso (kg)/ [estatura (m)]2\n",
    "\n",
    "peso = float(input(\"¿Cuánto pesas?\"))\n",
    "estatura = float(input(\"¿Cuánto mides?\"))\n",
    "\n",
    "if peso / (estatura**2) <= 18.5:\n",
    "    print(\"Bajo peso\")\n",
    "    print\n",
    "elif peso/(estatura**2) <= 24.9:\n",
    "    print(\"Peso normal\")\n",
    "\n",
    "elif peso/(estatura**2) <= 29:\n",
    "    print(\"Peso normal\")\n",
    "\n",
    "else: \n",
    "    print(\"Obesidad\")"
   ]
  },
  {
   "cell_type": "code",
   "execution_count": 81,
   "metadata": {},
   "outputs": [
    {
     "name": "stdout",
     "output_type": "stream",
     "text": [
      "El numero mayor es: 3\n"
     ]
    }
   ],
   "source": [
    "# Calcular mayor de tres numeros\n",
    "\n",
    "numero1 = int(input(\"Elige un número1\"))\n",
    "numero2 = int(input(\"Elige un número2\"))\n",
    "numero3 = int(input(\"Elige un número3\"))\n",
    "\n",
    "if numero1 >= numero2 and numero1 >= numero3:\n",
    "    print(\"El numero mayor es:\", numero1)\n",
    "if numero2 >= numero1 and numero2 >= numero3:\n",
    "    print(\"El numero mayor es:\", numero2)\n",
    "if numero3 >= numero1 and numero3 >= numero2:\n",
    "    print(\"El numero mayor es:\", numero3)\n",
    "\n",
    "\n",
    "\n",
    "    "
   ]
  },
  {
   "cell_type": "code",
   "execution_count": 89,
   "metadata": {},
   "outputs": [
    {
     "name": "stdout",
     "output_type": "stream",
     "text": [
      "Fecha no válida\n"
     ]
    }
   ],
   "source": [
    "# Validez fecha. Hemos tomado todas las fechas válidas anteriores al 2024.\n",
    "\n",
    "dias = (1,2,3,4,5,6,7,8,9,10,11,12,13,14,15,16,17,18,19,20,21,22,23,24,25,26,27,28,29,30,31)\n",
    "meses = (1,2,3,4,5,6,7,8,9,10,11,12)\n",
    "\n",
    "\n",
    "dia = int(input(\"Elige un día del 1 al 31\"))\n",
    "mes = int(input(\"Elige un mes del 1 al 12\"))\n",
    "año = int(input(\"Elige un año hasta 2030\"))\n",
    "\n",
    "if dia in dias and mes in meses and año <= 2030 and año > 0:\n",
    "    print(\"Fecha válida\")\n",
    "else:\n",
    "    print(\"Fecha no válida\")\n",
    "\n"
   ]
  },
  {
   "cell_type": "markdown",
   "metadata": {},
   "source": [
    "Ejercicios WHILE"
   ]
  },
  {
   "cell_type": "code",
   "execution_count": 102,
   "metadata": {},
   "outputs": [
    {
     "name": "stdout",
     "output_type": "stream",
     "text": [
      "La suma es: 55\n"
     ]
    }
   ],
   "source": [
    "# Suma numeros enteros utilizando WHILE\n",
    "\n",
    "inicio = 1\n",
    "final = 10\n",
    "suma = 0\n",
    "valor_suma = 1\n",
    "\n",
    "while valor_suma <= final:\n",
    "    suma = suma + valor_suma\n",
    "    valor_suma = valor_suma + 1\n",
    "\n",
    "print(\"La suma es:\" , suma)\n",
    "\n",
    "\n"
   ]
  },
  {
   "cell_type": "code",
   "execution_count": 103,
   "metadata": {},
   "outputs": [
    {
     "name": "stdout",
     "output_type": "stream",
     "text": [
      "Numero incorrecto. Intenta nuevamente.\n",
      "Numero incorrecto. Intenta nuevamente.\n",
      "¡Felicitaciones! Adivinaste el numero secreto en 3 intentos.\n"
     ]
    }
   ],
   "source": [
    "numero_secreto = 8\n",
    "intentos = 0\n",
    "adivinado = False\n",
    "\n",
    "while not adivinado:\n",
    "    intento = int(input(\"Adivina el numero secreto\"))\n",
    "    intentos += 1\n",
    "\n",
    "    if intento == numero_secreto:\n",
    "        print(\"¡Felicitaciones! Adivinaste el numero secreto en\", intentos, \"intentos.\")\n",
    "        adivinado = True\n",
    "\n",
    "    else:\n",
    "        print(\"Numero incorrecto. Intenta nuevamente.\")"
   ]
  }
 ],
 "metadata": {
  "kernelspec": {
   "display_name": "base",
   "language": "python",
   "name": "python3"
  },
  "language_info": {
   "codemirror_mode": {
    "name": "ipython",
    "version": 3
   },
   "file_extension": ".py",
   "mimetype": "text/x-python",
   "name": "python",
   "nbconvert_exporter": "python",
   "pygments_lexer": "ipython3",
   "version": "3.11.7"
  }
 },
 "nbformat": 4,
 "nbformat_minor": 2
}
