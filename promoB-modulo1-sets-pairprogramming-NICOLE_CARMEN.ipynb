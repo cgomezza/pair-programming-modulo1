{
 "cells": [
  {
   "cell_type": "code",
   "execution_count": 8,
   "metadata": {},
   "outputs": [],
   "source": [
    "# Crear un conjunto vacio\n",
    "\n",
    "set1 = set()\n",
    "\n",
    "# Crear un conjunto con elementos\n",
    "\n",
    "set_ropa = {\"camisetas\", \"pantalones\", \"vestidos\"}"
   ]
  },
  {
   "cell_type": "code",
   "execution_count": 11,
   "metadata": {},
   "outputs": [
    {
     "name": "stdout",
     "output_type": "stream",
     "text": [
      "{'camisetas'}\n"
     ]
    }
   ],
   "source": [
    "# Agregar un solo elementos del set_ropa\n",
    "\n",
    "set1.add(\"camisetas\") \n",
    "print(set1)\n",
    "\n"
   ]
  },
  {
   "cell_type": "code",
   "execution_count": 13,
   "metadata": {},
   "outputs": [
    {
     "name": "stdout",
     "output_type": "stream",
     "text": [
      "{'pantalones', 'vestidos', 'camisetas'}\n"
     ]
    }
   ],
   "source": [
    "# Agregar un par de elementos a la vez\n",
    "\n",
    "set1.update(set_ropa)\n",
    "\n",
    "print(set1)"
   ]
  },
  {
   "cell_type": "code",
   "execution_count": 15,
   "metadata": {},
   "outputs": [
    {
     "name": "stdout",
     "output_type": "stream",
     "text": [
      "{'pantalones', 'camisetas'}\n"
     ]
    }
   ],
   "source": [
    "# Eliminar un elemento especificado por el usuario:\n",
    "\n",
    "elemento_a_eliminar = input(\"especifique si quiere eliminar 'pantalones' 'vestidos' o 'camisetas\")\n",
    "\n",
    "set1.remove(elemento_a_eliminar)\n",
    "print(set1)\n",
    "\n",
    "#insertamos \"vestidos\" por ende lo eliminó"
   ]
  },
  {
   "cell_type": "code",
   "execution_count": 17,
   "metadata": {},
   "outputs": [
    {
     "name": "stdout",
     "output_type": "stream",
     "text": [
      "¿está 'shorts' en set_ropa? False\n"
     ]
    }
   ],
   "source": [
    "# Verificar pertenencia de un elemento en un conjunto\n",
    "\n",
    "print( \"¿está 'shorts' en set_ropa?\", \"shorts\" in set_ropa)"
   ]
  },
  {
   "cell_type": "code",
   "execution_count": 20,
   "metadata": {},
   "outputs": [
    {
     "name": "stdout",
     "output_type": "stream",
     "text": [
      "{'pantalones', 'tops', 'bañadores', 'vestidos', 'camisetas', 'shorts'}\n"
     ]
    }
   ],
   "source": [
    "# creamos nuevo set para hacer unión\n",
    "\n",
    "set_ropa_verano = {\"shorts\", \"tops\", \"bañadores\"}\n",
    "\n",
    "set_ropa_total = set_ropa.union(set_ropa_verano)\n",
    "\n",
    "print(set_ropa_total)"
   ]
  },
  {
   "cell_type": "code",
   "execution_count": 21,
   "metadata": {},
   "outputs": [
    {
     "data": {
      "text/plain": [
       "{'camisetas', 'pantalones', 'vestidos'}"
      ]
     },
     "execution_count": 21,
     "metadata": {},
     "output_type": "execute_result"
    }
   ],
   "source": [
    "# Intersección de conjunto set_ropa con set_ropa_total\n",
    "\n",
    "set_ropa.intersection(set_ropa_total)"
   ]
  },
  {
   "cell_type": "code",
   "execution_count": 23,
   "metadata": {},
   "outputs": [
    {
     "data": {
      "text/plain": [
       "{'bañadores', 'shorts', 'tops'}"
      ]
     },
     "execution_count": 23,
     "metadata": {},
     "output_type": "execute_result"
    }
   ],
   "source": [
    "# Diferencia de conjuntos\n",
    "\n",
    "set_ropa_total.difference(set_ropa)"
   ]
  },
  {
   "cell_type": "code",
   "execution_count": 26,
   "metadata": {},
   "outputs": [
    {
     "name": "stdout",
     "output_type": "stream",
     "text": [
      "¿Es el set_ropa_verano un subset de set_ropa_total? True\n"
     ]
    }
   ],
   "source": [
    "# Verificar si un conjunto es subconjunto de otro\n",
    "\n",
    "print ( \"¿Es el set_ropa_verano un subset de set_ropa_total?\", set_ropa_verano.issubset(set_ropa_total))"
   ]
  }
 ],
 "metadata": {
  "kernelspec": {
   "display_name": "Python 3",
   "language": "python",
   "name": "python3"
  },
  "language_info": {
   "codemirror_mode": {
    "name": "ipython",
    "version": 3
   },
   "file_extension": ".py",
   "mimetype": "text/x-python",
   "name": "python",
   "nbconvert_exporter": "python",
   "pygments_lexer": "ipython3",
   "version": "3.11.9"
  }
 },
 "nbformat": 4,
 "nbformat_minor": 2
}
